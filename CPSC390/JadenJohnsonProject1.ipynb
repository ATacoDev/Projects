{
  "nbformat": 4,
  "nbformat_minor": 0,
  "metadata": {
    "colab": {
      "provenance": []
    },
    "kernelspec": {
      "name": "python3",
      "display_name": "Python 3"
    },
    "language_info": {
      "name": "python"
    }
  },
  "cells": [
    {
      "cell_type": "markdown",
      "source": [
        "## CPSC 390 Project 1\n",
        "## by Jaden Johnson\n",
        "## Collaborator: Tanner Platt (A* only)\n",
        "## Search using DFS & A*\n"
      ],
      "metadata": {
        "id": "QPGQNZyvo-BG"
      }
    },
    {
      "cell_type": "code",
      "execution_count": 16,
      "metadata": {
        "id": "ovTB9-ME6erx"
      },
      "outputs": [],
      "source": [
        "def dfs(graph, start, goal):\n",
        "    frontier = [(start, [])]  # Stack\n",
        "    visited = set()  # Visited nodes\n",
        "\n",
        "    while frontier: # - Until frontier is empty\n",
        "        node, path = frontier.pop()\n",
        "\n",
        "        if node == goal:  # Check if goal is reached\n",
        "            return path + [node] # Return solution path if found; used later for calculating cost\n",
        "\n",
        "        visited.add(node)  # Mark node as explored\n",
        "\n",
        "        for neighbor, cost in reversed(graph.get(node, {}).items()): # Reversed for readability; before would display forntier as [C, B, A]\n",
        "            if neighbor not in visited:\n",
        "                frontier.append((neighbor, path + [node]))\n",
        "\n",
        "        print(\"Node expanded:\", node)\n",
        "        print(\"Frontier:\", [n for n, _ in reversed(frontier)])\n",
        "\n",
        "    return None  # Goal not reachable"
      ]
    },
    {
      "cell_type": "code",
      "source": [
        "# Figure 1\n",
        "figure1 = dict(\n",
        "    S = dict(A = 3, B = 1, C = 8),\n",
        "    A = dict(D = 3, E = 7, G = 15),\n",
        "    B = dict(G = 20),\n",
        "    C = dict(G = 5))\n",
        "\n",
        "graph = figure1\n",
        "startFigure1 = 'S'\n",
        "goalFigure1 = 'G'\n",
        "solution = dfs(graph, startFigure1, goalFigure1)\n",
        "\n",
        "if solution:\n",
        "    print(\"Solution Path (DFS):\", solution)\n",
        "    totalCost = sum(graph[node][solution[i+1]] for i, node in enumerate(solution[:-1])) # Sum cost for solution path; disregard costs after G\n",
        "    print(\"Total Cost (DFS):\", totalCost)\n",
        "else:\n",
        "    print(\"Goal not reachable.\")\n"
      ],
      "metadata": {
        "colab": {
          "base_uri": "https://localhost:8080/"
        },
        "id": "AWrLULXAaXQx",
        "outputId": "bc5e5c2f-621d-4798-8de3-46241dc93221"
      },
      "execution_count": 17,
      "outputs": [
        {
          "output_type": "stream",
          "name": "stdout",
          "text": [
            "Node expanded: S\n",
            "Frontier: ['A', 'B', 'C']\n",
            "Node expanded: A\n",
            "Frontier: ['D', 'E', 'G', 'B', 'C']\n",
            "Node expanded: D\n",
            "Frontier: ['E', 'G', 'B', 'C']\n",
            "Node expanded: E\n",
            "Frontier: ['G', 'B', 'C']\n",
            "Solution Path (DFS): ['S', 'A', 'G']\n",
            "Total Cost (DFS): 18\n"
          ]
        }
      ]
    },
    {
      "cell_type": "code",
      "source": [
        "# Code cell 3: Define the graph data of Romania Roadmap and call the search funciton you implemented in Cell 1\n",
        "# DFS - Stack\n",
        "# BFS - Queue\n",
        "\n",
        "roadmap = dict(\n",
        "    Arad=dict(Zerind=75, Sibiu=140, Timisoara=118),\n",
        "    Bucharest=dict(Urziceni=85, Pitesti=101, Giurgiu=90, Fagaras=211),\n",
        "    Craiova=dict(Drobeta=120, Rimnicu=146, Pitesti=138),\n",
        "    Drobeta=dict(Craiova=120, Mehadia=75),\n",
        "    Eforie=dict(Hirsova=86),\n",
        "    Fagaras=dict(Bucharest=211, Sibiu=99),\n",
        "    Giurgiu=dict(Bucharest=90),\n",
        "    Hirsova=dict(Eforie=86, Urziceni=98),\n",
        "    Iasi=dict(Vaslui=92, Neamt=87),\n",
        "    Lugoj=dict(Timisoara=111, Mehadia=70),\n",
        "    Mehadia=dict(Lugoj=70, Drobeta=75),\n",
        "    Neamt=dict(Iasi=87),\n",
        "    Oradea=dict(Zerind=71, Sibiu=151),\n",
        "    Pitesti=dict(Bucharest=101, Rimnicu=97, Craiova=138),\n",
        "    Rimnicu=dict(Craiova=146, Sibiu=80, Pitesti=97),\n",
        "    Sibiu=dict(Arad=140, Fagaras=99, Oradea=151, Rimnicu=80),\n",
        "    Timisoara=dict(Arad=118,Lugoj=111),\n",
        "    Vaslui=dict(Iasi=92, Urziceni=98),\n",
        "    Urziceni=dict(Vaslui=142, Bucharest=85, Hirsova=98),\n",
        "    Zerind=dict(Arad=75, Oradea=71))\n",
        "\n",
        "startRoadmap = 'Arad'\n",
        "goalRoadmap = 'Bucharest'\n",
        "graph = roadmap\n",
        "solution = dfs(graph, startRoadmap, goalRoadmap)\n",
        "\n",
        "if solution:\n",
        "    print(\"Solution Path (DFS):\", solution)\n",
        "    totalCost = sum(graph[node][solution[i+1]] for i, node in enumerate(solution[:-1])) # Sum cost for solution path; disregard costs after G\n",
        "    print(\"Total Path Cost (DFS):\", totalCost)\n",
        "else:\n",
        "    print(\"Goal state is not reachable from the start state.\")"
      ],
      "metadata": {
        "colab": {
          "base_uri": "https://localhost:8080/"
        },
        "id": "jj9CdH95bDPk",
        "outputId": "9d81c865-5a02-48c8-f9de-72db9ecd9e1b"
      },
      "execution_count": 10,
      "outputs": [
        {
          "output_type": "stream",
          "name": "stdout",
          "text": [
            "Node expanded: Arad\n",
            "Frontier: ['Zerind', 'Sibiu', 'Timisoara']\n",
            "Node expanded: Zerind\n",
            "Frontier: ['Oradea', 'Sibiu', 'Timisoara']\n",
            "Node expanded: Oradea\n",
            "Frontier: ['Sibiu', 'Sibiu', 'Timisoara']\n",
            "Node expanded: Sibiu\n",
            "Frontier: ['Fagaras', 'Rimnicu', 'Sibiu', 'Timisoara']\n",
            "Node expanded: Fagaras\n",
            "Frontier: ['Bucharest', 'Rimnicu', 'Sibiu', 'Timisoara']\n",
            "Solution Path (DFS): ['Arad', 'Zerind', 'Oradea', 'Sibiu', 'Fagaras', 'Bucharest']\n",
            "Total Path Cost (DFS): 607\n"
          ]
        }
      ]
    },
    {
      "cell_type": "code",
      "source": [
        "# Code cell 4: additional setup for A* search and call the A* search function\n",
        "\n",
        "# A*\n",
        "\n",
        "heuristics = {\n",
        "    'Arad': 15,\n",
        "    'Bucharest': 0,\n",
        "    'Craiova': 160,\n",
        "    'Drobeta': 242,\n",
        "    'Eforie': 161,\n",
        "    'Fagaras': 176,\n",
        "    'Giurgiu': 77,\n",
        "    'Hirsova': 151,\n",
        "    'Iasi': 226,\n",
        "    'Lugoj': 244,\n",
        "    'Mehadia': 241,\n",
        "    'Neamt': 234,\n",
        "    'Oradea': 380,\n",
        "    'Pitesti': 100,\n",
        "    'Rimnicu': 193,\n",
        "    'Sibiu': 253,\n",
        "    'Timisoara': 329,\n",
        "    'Urzinceni': 80,\n",
        "    'Vaslui': 199,\n",
        "    'Zerind': 374\n",
        "}\n",
        "\n",
        "def astar(graph, start, goal, heuristic):\n",
        "    frontier = [(0, start)]\n",
        "    came_from = {}  # Parent pointers\n",
        "    totalCost = {start: 0}  # Cost from start to each node\n",
        "    visited = []  # Visited Nodes\n",
        "\n",
        "    while frontier:\n",
        "        frontier.sort()  # Sort by cost\n",
        "        current_cost, current_node = frontier.pop(0)\n",
        "        visited.append(current_node)  # Mark as visited\n",
        "        print(\"Expanded node:\", current_node)\n",
        "        print()\n",
        "\n",
        "        if current_node == goal:\n",
        "            path = []\n",
        "            while current_node in came_from:\n",
        "                path.insert(0, current_node)\n",
        "                current_node = came_from[current_node]\n",
        "            totalCost = totalCost[goal]\n",
        "            return path, totalCost\n",
        "\n",
        "        for next_node, edgeCost in graph[current_node].items():\n",
        "            aStarCost = totalCost[current_node] + edgeCost\n",
        "            if next_node not in totalCost or aStarCost < totalCost[next_node]: # If not a visited node, or less than previously recorded cost, update astar value\n",
        "                totalCost[next_node] = aStarCost\n",
        "                priority = aStarCost + heuristic[next_node]\n",
        "                frontier.append((priority, next_node))\n",
        "                came_from[next_node] = current_node\n",
        "\n",
        "        print(\"Frontier:\", frontier)\n",
        "\n",
        "    print(\"Goal not found\")\n",
        "    return None, visited, None\n",
        "\n",
        "startA = 'Arad'\n",
        "goalA = 'Bucharest'\n",
        "\n",
        "path = astar(roadmap, startA, goalA, heuristics)\n",
        "print(f\"Path solution: {path}\")"
      ],
      "metadata": {
        "id": "KIg9D7rxwm7T",
        "colab": {
          "base_uri": "https://localhost:8080/"
        },
        "outputId": "9a33ac3c-bd71-46e6-873b-60faaf9601a3"
      },
      "execution_count": 4,
      "outputs": [
        {
          "output_type": "stream",
          "name": "stdout",
          "text": [
            "Expanded node: Arad\n",
            "\n",
            "Frontier: [(449, 'Zerind'), (393, 'Sibiu'), (447, 'Timisoara')]\n",
            "Expanded node: Sibiu\n",
            "\n",
            "Frontier: [(447, 'Timisoara'), (449, 'Zerind'), (415, 'Fagaras'), (671, 'Oradea'), (413, 'Rimnicu')]\n",
            "Expanded node: Rimnicu\n",
            "\n",
            "Frontier: [(415, 'Fagaras'), (447, 'Timisoara'), (449, 'Zerind'), (671, 'Oradea'), (526, 'Craiova'), (417, 'Pitesti')]\n",
            "Expanded node: Fagaras\n",
            "\n",
            "Frontier: [(417, 'Pitesti'), (447, 'Timisoara'), (449, 'Zerind'), (526, 'Craiova'), (671, 'Oradea'), (450, 'Bucharest')]\n",
            "Expanded node: Pitesti\n",
            "\n",
            "Frontier: [(447, 'Timisoara'), (449, 'Zerind'), (450, 'Bucharest'), (526, 'Craiova'), (671, 'Oradea'), (418, 'Bucharest')]\n",
            "Expanded node: Bucharest\n",
            "\n",
            "Path solution: (['Sibiu', 'Rimnicu', 'Pitesti', 'Bucharest'], 418)\n"
          ]
        }
      ]
    },
    {
      "cell_type": "markdown",
      "source": [
        "# Sample outputs:\n",
        "\n",
        "# For DFS on Figure 1:\n",
        "Node expanded: S\n",
        "Frontier: ['A', 'B', 'C']\n",
        "Node expanded: A\n",
        "Frontier: ['D', 'E', 'G', 'B', 'C']\n",
        "Node expanded: D\n",
        "Frontier: ['E', 'G', 'B', 'C']\n",
        "Node expanded: E\n",
        "Frontier: ['G', 'B', 'C']\n",
        "Solution Path (DFS): ['S', 'A', 'G']\n",
        "Total Path Cost (DFS): 18\n",
        "\n",
        "\n",
        "# For DFS on roadmap:\n",
        "\n",
        "roadmap = dict(\n",
        "    Arad=dict(Zerind=75, Sibiu=140, Timisoara=118),\n",
        "    Bucharest=dict(Urziceni=85, Pitesti=101, Giurgiu=90, Fagaras=211),\n",
        "    Craiova=dict(Drobeta=120, Rimnicu=146, Pitesti=138),\n",
        "    Drobeta=dict(Craiova=120, Mehadia=75),\n",
        "    Eforie=dict(Hirsova=86),\n",
        "\n",
        "Node expanded: Arad\n",
        "Frontier: ['Zerind', 'Sibiu', 'Timisoara']\n",
        "Node expanded: Zerind\n",
        "Frontier: ['Oradea', 'Sibiu', 'Timisoara']\n",
        "Node expanded: Oradea\n",
        "Frontier: ['Sibiu', 'Sibiu', 'Timisoara']\n",
        "Node expanded: Sibiu\n",
        "Frontier: ['Fagaras', 'Rimnicu', 'Sibiu', 'Timisoara']\n",
        "Node expanded: Fagaras\n",
        "Frontier: ['Bucharest', 'Rimnicu', 'Sibiu', 'Timisoara']\n",
        "Solution Path (DFS): ['Arad', 'Zerind', 'Oradea', 'Sibiu', 'Fagaras', 'Bucharest']\n",
        "Total Path Cost (DFS): 607\n",
        "\n",
        "# A* Search\n",
        "\n",
        "\n",
        "Expanded node: Arad\n",
        "\n",
        "Frontier: [(449, 'Zerind'), (393, 'Sibiu'), (447, 'Timisoara')]\n",
        "Expanded node: Sibiu\n",
        "\n",
        "Frontier: [(447, 'Timisoara'), (449, 'Zerind'), (415, 'Fagaras'), (671, 'Oradea'), (413, 'Rimnicu')]\n",
        "Expanded node: Rimnicu\n",
        "\n",
        "Frontier: [(415, 'Fagaras'), (447, 'Timisoara'), (449, 'Zerind'), (671, 'Oradea'), (526, 'Craiova'), (417, 'Pitesti')]\n",
        "Expanded node: Fagaras\n",
        "\n",
        "Frontier: [(417, 'Pitesti'), (447, 'Timisoara'), (449, 'Zerind'), (526, 'Craiova'), (671, 'Oradea'), (450, 'Bucharest')]\n",
        "Expanded node: Pitesti\n",
        "\n",
        "Frontier: [(447, 'Timisoara'), (449, 'Zerind'), (450, 'Bucharest'), (526, 'Craiova'), (671, 'Oradea'), (418, 'Bucharest')]\n",
        "Expanded node: Bucharest\n",
        "\n",
        "Path solution: (['Sibiu', 'Rimnicu', 'Pitesti', 'Bucharest'], 418)\n"
      ],
      "metadata": {
        "id": "jJV9m6U5ijrW"
      }
    },
    {
      "cell_type": "code",
      "source": [],
      "metadata": {
        "id": "l93IvC9hik9z"
      },
      "execution_count": 10,
      "outputs": []
    }
  ]
}